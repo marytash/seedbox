{
 "cells": [
  {
   "cell_type": "markdown",
   "metadata": {},
   "source": [
    "Is a user that must call-in to cancel more likely to generate at least 1 addition REBILL?"
   ]
  },
  {
   "cell_type": "code",
   "execution_count": 24,
   "metadata": {},
   "outputs": [],
   "source": [
    "import pandas as pd\n",
    "import csv"
   ]
  },
  {
   "cell_type": "code",
   "execution_count": 71,
   "metadata": {},
   "outputs": [],
   "source": [
    "#a = pd.read_csv('transData.csv')\n",
    "#b = pd.read_csv(\"testSamples.csv\")\n",
    "#b = b.dropna(axis=1)\n",
    "#merged = a.merge(b, on='sample_id')\n",
    "#merged.to_csv(\"output.csv\", index=False)"
   ]
  },
  {
   "cell_type": "markdown",
   "metadata": {},
   "source": [
    "I found all sample_ids of control group which had a rebill transaction"
   ]
  },
  {
   "cell_type": "code",
   "execution_count": 72,
   "metadata": {},
   "outputs": [],
   "source": [
    "with open('output.csv') as csvfile:    \n",
    "    output=list(csv.DictReader(csvfile))\n",
    "df=pd.DataFrame(output)\n",
    "\n",
    "m=df[df['sample_id'].notnull() & (df['transaction_type'] == \"REBILL\")&(df['test_group']=='0')]\n",
    "z=m.groupby(['sample_id']).size().reset_index(name='counts')\n"
   ]
  },
  {
   "cell_type": "code",
   "execution_count": 5,
   "metadata": {},
   "outputs": [],
   "source": [
    " all_REBILLS_control=z['counts'].sum()\n"
   ]
  },
  {
   "cell_type": "code",
   "execution_count": 6,
   "metadata": {},
   "outputs": [
    {
     "data": {
      "text/plain": [
       "3756"
      ]
     },
     "execution_count": 6,
     "metadata": {},
     "output_type": "execute_result"
    }
   ],
   "source": [
    "all_REBILLS_control"
   ]
  },
  {
   "cell_type": "code",
   "execution_count": 19,
   "metadata": {},
   "outputs": [],
   "source": [
    "all_sampleid_control=z.sample_id.nunique()\n"
   ]
  },
  {
   "cell_type": "code",
   "execution_count": 20,
   "metadata": {},
   "outputs": [
    {
     "data": {
      "text/plain": [
       "941"
      ]
     },
     "execution_count": 20,
     "metadata": {},
     "output_type": "execute_result"
    }
   ],
   "source": [
    "all_sampleid_control\n"
   ]
  },
  {
   "cell_type": "markdown",
   "metadata": {},
   "source": [
    "The Control group has such a high amount of rebill transactions with only 941 users. "
   ]
  },
  {
   "cell_type": "code",
   "execution_count": 9,
   "metadata": {},
   "outputs": [],
   "source": [
    "mm=df[df['sample_id'].notnull() & (df['transaction_type'] == \"REBILL\")&(df['test_group']=='1')]\n",
    "zz=mm.groupby(['sample_id']).size().reset_index(name='counts')\n"
   ]
  },
  {
   "cell_type": "code",
   "execution_count": 10,
   "metadata": {},
   "outputs": [],
   "source": [
    "all_REBILLS_test=zz['counts'].sum()"
   ]
  },
  {
   "cell_type": "code",
   "execution_count": 11,
   "metadata": {},
   "outputs": [
    {
     "data": {
      "text/plain": [
       "3205"
      ]
     },
     "execution_count": 11,
     "metadata": {},
     "output_type": "execute_result"
    }
   ],
   "source": [
    "all_REBILLS_test"
   ]
  },
  {
   "cell_type": "code",
   "execution_count": 21,
   "metadata": {},
   "outputs": [],
   "source": [
    "all_sampleid_test=zz.sample_id.nunique()"
   ]
  },
  {
   "cell_type": "code",
   "execution_count": 25,
   "metadata": {},
   "outputs": [
    {
     "data": {
      "text/plain": [
       "1556"
      ]
     },
     "execution_count": 25,
     "metadata": {},
     "output_type": "execute_result"
    }
   ],
   "source": [
    "all_sampleid_test"
   ]
  },
  {
   "cell_type": "markdown",
   "metadata": {},
   "source": [
    "It seems that users which can cancel their subscription using a web form have less rebill transactions than control group, \n",
    "therefore the answer to the question is NO. "
   ]
  },
  {
   "cell_type": "markdown",
   "metadata": {},
   "source": [
    "Is a user that must call-in to cancel more likely to generate more revenues?"
   ]
  },
  {
   "cell_type": "code",
   "execution_count": 26,
   "metadata": {},
   "outputs": [],
   "source": [
    "n=df[df['transaction_amount'].notnull()&(df['test_group']=='1')]\n",
    "mean_test=n['transaction_amount'].astype(float).mean()\n"
   ]
  },
  {
   "cell_type": "code",
   "execution_count": 27,
   "metadata": {},
   "outputs": [
    {
     "data": {
      "text/plain": [
       "28.23476331360791"
      ]
     },
     "execution_count": 27,
     "metadata": {},
     "output_type": "execute_result"
    }
   ],
   "source": [
    "mean_test"
   ]
  },
  {
   "cell_type": "code",
   "execution_count": 29,
   "metadata": {},
   "outputs": [],
   "source": [
    "c=df[df['transaction_amount'].notnull()&(df['test_group']=='0')]\n",
    "mean_control=c['transaction_amount'].astype(float).mean()"
   ]
  },
  {
   "cell_type": "code",
   "execution_count": 30,
   "metadata": {},
   "outputs": [
    {
     "data": {
      "text/plain": [
       "22.182444444443032"
      ]
     },
     "execution_count": 30,
     "metadata": {},
     "output_type": "execute_result"
    }
   ],
   "source": [
    "mean_control"
   ]
  },
  {
   "cell_type": "markdown",
   "metadata": {},
   "source": [
    "I calculated the mean of transaction amount for test and control groups. The results show that the company has more revenue \n",
    "from customers who should call for cancelation. "
   ]
  },
  {
   "cell_type": "markdown",
   "metadata": {},
   "source": [
    "Is a user that must call-in more likely to produce a higher chargeback rate(CHARGEBACKs/REBILLs)?"
   ]
  },
  {
   "cell_type": "markdown",
   "metadata": {},
   "source": [
    "Transaction_amount is object in this dataset, I changed it to float type"
   ]
  },
  {
   "cell_type": "code",
   "execution_count": 33,
   "metadata": {},
   "outputs": [
    {
     "name": "stderr",
     "output_type": "stream",
     "text": [
      "C:\\Users\\Maryam\\Anaconda2\\lib\\site-packages\\ipykernel_launcher.py:1: FutureWarning: convert_objects is deprecated.  To re-infer data dtypes for object columns, use Series.infer_objects()\n",
      "For all other conversions use the data-type specific converters pd.to_datetime, pd.to_timedelta and pd.to_numeric.\n",
      "  \"\"\"Entry point for launching an IPython kernel.\n"
     ]
    }
   ],
   "source": [
    "df['transaction_amount'] = df['transaction_amount'].convert_objects(convert_numeric=True)"
   ]
  },
  {
   "cell_type": "code",
   "execution_count": 35,
   "metadata": {},
   "outputs": [],
   "source": [
    "m=df[df['sample_id'].notnull() & (df['transaction_type'] == \"REBILL\")&(df['test_group']=='0')]"
   ]
  },
  {
   "cell_type": "code",
   "execution_count": 44,
   "metadata": {},
   "outputs": [
    {
     "data": {
      "text/plain": [
       "sample_id  transaction_type\n",
       "10046      REBILL               24.95\n",
       "10099      REBILL              164.75\n",
       "1010       REBILL               65.90\n",
       "10113      REBILL              164.75\n",
       "10137      REBILL               24.95\n",
       "10201      REBILL               98.85\n",
       "10258      REBILL               19.95\n",
       "103        REBILL              219.45\n",
       "10355      REBILL               24.95\n",
       "1044       REBILL              259.35\n",
       "10535      REBILL               39.90\n",
       "10563      REBILL               98.85\n",
       "10571      REBILL               79.80\n",
       "10614      REBILL               19.95\n",
       "10651      REBILL              124.75\n",
       "10655      REBILL               74.85\n",
       "10688      REBILL               24.95\n",
       "10864      REBILL               65.90\n",
       "109        REBILL               19.95\n",
       "11063      REBILL               65.90\n",
       "11213      REBILL               39.90\n",
       "11254      REBILL               79.80\n",
       "11337      REBILL               32.95\n",
       "11377      REBILL               32.95\n",
       "11379      REBILL               19.95\n",
       "11411      REBILL              279.30\n",
       "11424      REBILL              379.05\n",
       "11429      REBILL               98.85\n",
       "1149       REBILL              329.50\n",
       "11502      REBILL               19.95\n",
       "                                ...  \n",
       "8607       REBILL               19.95\n",
       "8686       REBILL              119.70\n",
       "8774       REBILL               49.90\n",
       "8784       REBILL               19.95\n",
       "8811       REBILL              124.75\n",
       "8904       REBILL              149.70\n",
       "894        REBILL               65.90\n",
       "8942       REBILL               99.75\n",
       "902        REBILL               65.90\n",
       "9196       REBILL               39.90\n",
       "9267       REBILL              139.65\n",
       "9274       REBILL               39.90\n",
       "9466       REBILL               65.90\n",
       "9504       REBILL               59.85\n",
       "9541       REBILL               24.95\n",
       "9550       REBILL              199.60\n",
       "9594       REBILL              199.60\n",
       "9602       REBILL               32.95\n",
       "9658       REBILL               74.85\n",
       "9672       REBILL               65.90\n",
       "9675       REBILL              329.50\n",
       "9680       REBILL               79.80\n",
       "9697       REBILL               24.95\n",
       "9727       REBILL               24.95\n",
       "9730       REBILL               98.85\n",
       "9803       REBILL              424.15\n",
       "9823       REBILL              164.75\n",
       "9874       REBILL               24.95\n",
       "9948       REBILL               19.95\n",
       "9982       REBILL               79.80\n",
       "Name: transaction_amount, Length: 941, dtype: float64"
      ]
     },
     "execution_count": 44,
     "metadata": {},
     "output_type": "execute_result"
    }
   ],
   "source": [
    "m.groupby(['sample_id', 'transaction_type'])['transaction_amount'].sum()\n"
   ]
  },
  {
   "cell_type": "code",
   "execution_count": 45,
   "metadata": {},
   "outputs": [],
   "source": [
    "all_rebill_control=m.groupby(['sample_id', 'transaction_type'])['transaction_amount'].sum().sum()\n"
   ]
  },
  {
   "cell_type": "code",
   "execution_count": 46,
   "metadata": {},
   "outputs": [
    {
     "data": {
      "text/plain": [
       "97359.20000000001"
      ]
     },
     "execution_count": 46,
     "metadata": {},
     "output_type": "execute_result"
    }
   ],
   "source": [
    "all_rebill_control\n"
   ]
  },
  {
   "cell_type": "code",
   "execution_count": 47,
   "metadata": {},
   "outputs": [],
   "source": [
    "m_charge=df[df['sample_id'].notnull() & (df['transaction_type'] == \"CHARGEBACK\")&(df['test_group']=='0')]"
   ]
  },
  {
   "cell_type": "code",
   "execution_count": 48,
   "metadata": {},
   "outputs": [],
   "source": [
    "all_chargeback_control=m_charge.groupby(['sample_id', 'transaction_type'])['transaction_amount'].sum().sum()"
   ]
  },
  {
   "cell_type": "code",
   "execution_count": 49,
   "metadata": {},
   "outputs": [
    {
     "data": {
      "text/plain": [
       "-2678.6999999999994"
      ]
     },
     "execution_count": 49,
     "metadata": {},
     "output_type": "execute_result"
    }
   ],
   "source": [
    "all_chargeback_control"
   ]
  },
  {
   "cell_type": "code",
   "execution_count": 50,
   "metadata": {},
   "outputs": [],
   "source": [
    "m1=df[df['sample_id'].notnull() & (df['transaction_type'] == \"REBILL\")&(df['test_group']=='1')]"
   ]
  },
  {
   "cell_type": "code",
   "execution_count": 51,
   "metadata": {},
   "outputs": [],
   "source": [
    "all_rebill_test=m1.groupby(['sample_id', 'transaction_type'])['transaction_amount'].sum().sum()"
   ]
  },
  {
   "cell_type": "code",
   "execution_count": 52,
   "metadata": {},
   "outputs": [
    {
     "data": {
      "text/plain": [
       "100869.75"
      ]
     },
     "execution_count": 52,
     "metadata": {},
     "output_type": "execute_result"
    }
   ],
   "source": [
    "all_rebill_test"
   ]
  },
  {
   "cell_type": "code",
   "execution_count": 53,
   "metadata": {},
   "outputs": [],
   "source": [
    "m1_charge=df[df['sample_id'].notnull() & (df['transaction_type'] == \"CHARGEBACK\")&(df['test_group']=='1')]"
   ]
  },
  {
   "cell_type": "code",
   "execution_count": 54,
   "metadata": {},
   "outputs": [],
   "source": [
    "all_chargeback_test=m1_charge.groupby(['sample_id', 'transaction_type'])['transaction_amount'].sum().sum()"
   ]
  },
  {
   "cell_type": "code",
   "execution_count": 55,
   "metadata": {},
   "outputs": [
    {
     "data": {
      "text/plain": [
       "-1902.1500000000003"
      ]
     },
     "execution_count": 55,
     "metadata": {},
     "output_type": "execute_result"
    }
   ],
   "source": [
    "all_chargeback_test"
   ]
  },
  {
   "cell_type": "markdown",
   "metadata": {},
   "source": [
    "As far as I could see, for every user there is Chargeback or Rebill, so I am not able to calculate chargeback rate for every user. Therefor I calculated the ratio for total amounts for every group. The ratio for control group is (2679/97359=0.02) and for test group is lower around 0.018. This ratio is a bit high for both groups, in business any ratio greater than 0.01 considered as harmful for that business. "
   ]
  },
  {
   "cell_type": "markdown",
   "metadata": {},
   "source": [
    "What is the aproximate probability distribution between the test group and the control group?\n",
    "I think the available data is not enough to plot approximate probability distribution. I prepared two plots to gain some level\n",
    "of vision"
   ]
  },
  {
   "cell_type": "code",
   "execution_count": 69,
   "metadata": {},
   "outputs": [],
   "source": [
    "import matplotlib.pyplot as plt\n",
    "m=df[df['sample_id'].notnull() &(df['test_group']=='0')]\n"
   ]
  },
  {
   "cell_type": "code",
   "execution_count": 70,
   "metadata": {},
   "outputs": [
    {
     "name": "stderr",
     "output_type": "stream",
     "text": [
      "C:\\Users\\Maryam\\Anaconda2\\lib\\site-packages\\ipykernel_launcher.py:1: FutureWarning: convert_objects is deprecated.  To re-infer data dtypes for object columns, use Series.infer_objects()\n",
      "For all other conversions use the data-type specific converters pd.to_datetime, pd.to_timedelta and pd.to_numeric.\n",
      "  \"\"\"Entry point for launching an IPython kernel.\n",
      "C:\\Users\\Maryam\\Anaconda2\\lib\\site-packages\\ipykernel_launcher.py:1: SettingWithCopyWarning: \n",
      "A value is trying to be set on a copy of a slice from a DataFrame.\n",
      "Try using .loc[row_indexer,col_indexer] = value instead\n",
      "\n",
      "See the caveats in the documentation: http://pandas.pydata.org/pandas-docs/stable/indexing.html#indexing-view-versus-copy\n",
      "  \"\"\"Entry point for launching an IPython kernel.\n",
      "C:\\Users\\Maryam\\Anaconda2\\lib\\site-packages\\ipykernel_launcher.py:2: FutureWarning: convert_objects is deprecated.  To re-infer data dtypes for object columns, use Series.infer_objects()\n",
      "For all other conversions use the data-type specific converters pd.to_datetime, pd.to_timedelta and pd.to_numeric.\n",
      "  \n",
      "C:\\Users\\Maryam\\Anaconda2\\lib\\site-packages\\ipykernel_launcher.py:2: SettingWithCopyWarning: \n",
      "A value is trying to be set on a copy of a slice from a DataFrame.\n",
      "Try using .loc[row_indexer,col_indexer] = value instead\n",
      "\n",
      "See the caveats in the documentation: http://pandas.pydata.org/pandas-docs/stable/indexing.html#indexing-view-versus-copy\n",
      "  \n",
      "C:\\Users\\Maryam\\Anaconda2\\lib\\site-packages\\ipykernel_launcher.py:10: FutureWarning: convert_objects is deprecated.  To re-infer data dtypes for object columns, use Series.infer_objects()\n",
      "For all other conversions use the data-type specific converters pd.to_datetime, pd.to_timedelta and pd.to_numeric.\n",
      "  # Remove the CWD from sys.path while we load stuff.\n",
      "C:\\Users\\Maryam\\Anaconda2\\lib\\site-packages\\ipykernel_launcher.py:10: SettingWithCopyWarning: \n",
      "A value is trying to be set on a copy of a slice from a DataFrame.\n",
      "Try using .loc[row_indexer,col_indexer] = value instead\n",
      "\n",
      "See the caveats in the documentation: http://pandas.pydata.org/pandas-docs/stable/indexing.html#indexing-view-versus-copy\n",
      "  # Remove the CWD from sys.path while we load stuff.\n",
      "C:\\Users\\Maryam\\Anaconda2\\lib\\site-packages\\ipykernel_launcher.py:11: FutureWarning: convert_objects is deprecated.  To re-infer data dtypes for object columns, use Series.infer_objects()\n",
      "For all other conversions use the data-type specific converters pd.to_datetime, pd.to_timedelta and pd.to_numeric.\n",
      "  # This is added back by InteractiveShellApp.init_path()\n",
      "C:\\Users\\Maryam\\Anaconda2\\lib\\site-packages\\ipykernel_launcher.py:11: SettingWithCopyWarning: \n",
      "A value is trying to be set on a copy of a slice from a DataFrame.\n",
      "Try using .loc[row_indexer,col_indexer] = value instead\n",
      "\n",
      "See the caveats in the documentation: http://pandas.pydata.org/pandas-docs/stable/indexing.html#indexing-view-versus-copy\n",
      "  # This is added back by InteractiveShellApp.init_path()\n"
     ]
    },
    {
     "data": {
      "image/png": "[encoded data removed]",
      "text/plain": [
       "<matplotlib.figure.Figure at 0x975ed30>"
      ]
     },
     "metadata": {},
     "output_type": "display_data"
    }
   ],
   "source": [
    "m['transaction_amount'] = m['transaction_amount'].convert_objects(convert_numeric=True)\n",
    "m['sample_id'] = m['sample_id'].convert_objects(convert_numeric=True)\n",
    "plt.figure(1)\n",
    "plt.subplot(311)\n",
    "plt.title('Control group')\n",
    "plt.xlabel('sample_id')\n",
    "plt.ylabel('transaction_amount')\n",
    "plt.plot(m['sample_id'],  m['transaction_amount'],'b')\n",
    "n=df[df['sample_id'].notnull() &(df['test_group']=='1')]\n",
    "n['transaction_amount'] = n['transaction_amount'].convert_objects(convert_numeric=True)\n",
    "n['sample_id'] = n['sample_id'].convert_objects(convert_numeric=True)\n",
    "plt.subplot(313)\n",
    "plt.title('Test group')\n",
    "plt.xlabel('sample_id')\n",
    "plt.ylabel('transaction_amount')\n",
    "plt.plot(n['sample_id'],  n['transaction_amount'],'r')\n",
    "plt.show()"
   ]
  },
  {
   "cell_type": "markdown",
   "metadata": {},
   "source": [
    "The positive transaction amounts of test group looks more and higher in contrast to control group which has more negative amounts(refund and chargeback). I would say, the probability of canceling between call-in group is lower. "
   ]
  },
  {
   "cell_type": "markdown",
   "metadata": {},
   "source": []
  },
  {
   "cell_type": "code",
   "execution_count": null,
   "metadata": {},
   "outputs": [],
   "source": []
  },
  {
   "cell_type": "code",
   "execution_count": null,
   "metadata": {},
   "outputs": [],
   "source": []
  }
 ],
 "metadata": {
  "kernelspec": {
   "display_name": "Python 2",
   "language": "python",
   "name": "python2"
  },
  "language_info": {
   "codemirror_mode": {
    "name": "ipython",
    "version": 2
   },
   "file_extension": ".py",
   "mimetype": "text/x-python",
   "name": "python",
   "nbconvert_exporter": "python",
   "pygments_lexer": "ipython2",
   "version": "2.7.14"
  }
 },
 "nbformat": 4,
 "nbformat_minor": 2
}
